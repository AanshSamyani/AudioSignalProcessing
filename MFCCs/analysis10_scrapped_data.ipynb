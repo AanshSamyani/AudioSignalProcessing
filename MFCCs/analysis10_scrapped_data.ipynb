{
 "cells": [
  {
   "cell_type": "code",
   "execution_count": 64,
   "metadata": {},
   "outputs": [],
   "source": [
    "import numpy as np\n",
    "import pandas as pd\n",
    "from numpy import genfromtxt\n",
    "import matplotlib.pyplot as plt\n",
    "import os\n",
    "import seaborn as sns\n",
    "import sklearn\n",
    "from scipy.stats import skew, kurtosis, entropy\n",
    "from scipy.fft import fft\n",
    "from sklearn.cluster import KMeans\n",
    "from sklearn.decomposition import PCA\n",
    "from sklearn.manifold import TSNE"
   ]
  },
  {
   "cell_type": "code",
   "execution_count": 65,
   "metadata": {},
   "outputs": [
    {
     "name": "stdout",
     "output_type": "stream",
     "text": [
      "['01-MFCC.csv', '02-MFCC.csv', '03-MFCC.csv', '04-MFCC.csv', '05-MFCC.csv', '06-MFCC.csv', '07-MFCC.csv', '08-MFCC.csv', '09-MFCC.csv', '10-MFCC.csv', '100-MFCC.csv', '101-MFCC.csv', '102-MFCC.csv', '103-MFCC.csv', '104-MFCC.csv', '105-MFCC.csv', '106-MFCC.csv', '107-MFCC.csv', '108-MFCC.csv', '109-MFCC.csv', '11-MFCC.csv', '110-MFCC.csv', '111-MFCC.csv', '112-MFCC.csv', '113-MFCC.csv', '114-MFCC.csv', '115-MFCC.csv', '116-MFCC.csv', '12-MFCC.csv', '13-MFCC.csv', '14-MFCC.csv', '15-MFCC.csv', '16-MFCC.csv', '17-MFCC.csv', '18-MFCC.csv', '19-MFCC.csv', '20-MFCC.csv', '21-MFCC.csv', '22-MFCC.csv', '23-MFCC.csv', '24-MFCC.csv', '25-MFCC.csv', '26-MFCC.csv', '27-MFCC.csv', '28-MFCC.csv', '29-MFCC.csv', '30-MFCC.csv', '31-MFCC.csv', '32-MFCC.csv', '33-MFCC.csv', '34-MFCC.csv', '35-MFCC.csv', '36-MFCC.csv', '37-MFCC.csv', '38-MFCC.csv', '39-MFCC.csv', '40-MFCC.csv', '41-MFCC.csv', '42-MFCC.csv', '43-MFCC.csv', '44-MFCC.csv', '45-MFCC.csv', '46-MFCC.csv', '47-MFCC.csv', '48-MFCC.csv', '49-MFCC.csv', '50-MFCC.csv', '51-MFCC.csv', '52-MFCC.csv', '53-MFCC.csv', '54-MFCC.csv', '55-MFCC.csv', '56-MFCC.csv', '57-MFCC.csv', '58-MFCC.csv', '59-MFCC.csv', '60-MFCC.csv', '61-MFCC.csv', '62-MFCC.csv', '63-MFCC.csv', '64-MFCC.csv', '65-MFCC.csv', '66-MFCC.csv', '67-MFCC.csv', '68-MFCC.csv', '69-MFCC.csv', '70-MFCC.csv', '71-MFCC.csv', '72-MFCC.csv', '73-MFCC.csv', '74-MFCC.csv', '75-MFCC.csv', '76-MFCC.csv', '77-MFCC.csv', '78-MFCC.csv', '79-MFCC.csv', '80-MFCC.csv', '81-MFCC.csv', '82-MFCC.csv', '83-MFCC.csv', '84-MFCC.csv', '85-MFCC.csv', '86-MFCC.csv', '87-MFCC.csv', '88-MFCC.csv', '89-MFCC.csv', '90-MFCC.csv', '91-MFCC.csv', '92-MFCC.csv', '93-MFCC.csv', '94-MFCC.csv', '95-MFCC.csv', '96-MFCC.csv', '97-MFCC.csv', '98-MFCC.csv', '99-MFCC.csv']\n",
      "116\n"
     ]
    }
   ],
   "source": [
    "dir_path = r'C:\\Users\\Admin\\Desktop\\DS203\\E7\\MFCC-files-v2'\n",
    "dir_files = os.listdir(dir_path)\n",
    "print((dir_files))\n",
    "\n",
    "ls_files = []\n",
    "\n",
    "for file_name in dir_files:\n",
    "    file_path = os.path.join(dir_path, file_name)\n",
    "    mfcc_arr = genfromtxt(file_path, delimiter=',')\n",
    "    ls_files.append(mfcc_arr)\n",
    "    \n",
    "print(len(ls_files))"
   ]
  },
  {
   "cell_type": "code",
   "execution_count": 66,
   "metadata": {},
   "outputs": [
    {
     "name": "stdout",
     "output_type": "stream",
     "text": [
      "116\n"
     ]
    }
   ],
   "source": [
    "new_ls_files = []\n",
    "for i in range(len(ls_files)):\n",
    "    lx = ls_files[i][0].shape[0]\n",
    "    q = lx//100\n",
    "    new_ls_file = ls_files[i][:, :q*100]\n",
    "    new_ls_files.append(new_ls_file)\n",
    "    \n",
    "print(len(new_ls_files)) "
   ]
  },
  {
   "cell_type": "code",
   "execution_count": 67,
   "metadata": {},
   "outputs": [
    {
     "name": "stdout",
     "output_type": "stream",
     "text": [
      "['1audio.csv', '2audio.csv', '3audio.csv', '4audio.csv', '5audio.csv', '6audio.csv', '7audio.csv', '8audio.csv', '90audio.csv', '91audio.csv', '92audio.csv', '93audio.csv']\n",
      "12\n"
     ]
    }
   ],
   "source": [
    "dir_path_scrapped = r'C:\\Users\\Admin\\Desktop\\DS203\\E7\\scrapped'\n",
    "dir_files_scrapped = os.listdir(dir_path_scrapped)\n",
    "print((dir_files_scrapped))\n",
    "\n",
    "ls_files_scrapped = []\n",
    "\n",
    "for file_name in dir_files_scrapped:\n",
    "    file_path = os.path.join(dir_path_scrapped, file_name)\n",
    "    mfcc_arr = genfromtxt(file_path, delimiter=',')\n",
    "    ls_files_scrapped.append(mfcc_arr)\n",
    "    \n",
    "print(len(ls_files_scrapped))"
   ]
  },
  {
   "cell_type": "code",
   "execution_count": 68,
   "metadata": {},
   "outputs": [
    {
     "name": "stdout",
     "output_type": "stream",
     "text": [
      "12\n"
     ]
    }
   ],
   "source": [
    "new_ls_files_scrapped = []\n",
    "for i in range(len(ls_files_scrapped)):\n",
    "    lx = ls_files[i][0].shape[0]\n",
    "    q = lx//100\n",
    "    new_ls_file = ls_files[i][:, :q*100]\n",
    "    new_ls_files_scrapped.append(new_ls_file)\n",
    "    \n",
    "print(len(new_ls_files_scrapped)) "
   ]
  },
  {
   "cell_type": "code",
   "execution_count": 69,
   "metadata": {},
   "outputs": [],
   "source": [
    "def calculateMeans(array):\n",
    "    array = np.array(array)\n",
    "    q = array[0].shape[0]//100\n",
    "    ls_mean_elements = []\n",
    "    for i in range(100):\n",
    "        mean = np.mean(array[:, q*i:q*(i+1)], axis=1)\n",
    "        ls_mean_elements.append(mean)\n",
    "        \n",
    "    ls_mean_elements = np.array(ls_mean_elements)\n",
    "    ls_mean_elements = ls_mean_elements.reshape(20, -1)\n",
    "    return ls_mean_elements\n",
    "\n",
    "\n",
    "def calculateVariance(array):\n",
    "    array = np.array(array)\n",
    "    q = array[0].shape[0]//100\n",
    "    ls_var_elements = []\n",
    "    for i in range(100):\n",
    "        var = np.var(array[:, q*i:q*(i+1)], axis=1)\n",
    "        ls_var_elements.append(var)\n",
    "    \n",
    "    ls_var_elements = np.array(ls_var_elements)\n",
    "    ls_var_elements = ls_var_elements.reshape(20, -1)\n",
    "    return ls_var_elements\n",
    "\n",
    "def calculateMinMax(array):\n",
    "    array = np.array(array)\n",
    "    q = array[0].shape[0]//100\n",
    "    ls_min_elements = []\n",
    "    ls_max_elements = []\n",
    "    for i in range(100):\n",
    "        min = np.min(array[:, q*i:q*(i+1)], axis=1)\n",
    "        max = np.max(array[:, q*i:q*(i+1)], axis=1)\n",
    "        ls_min_elements.append(min)\n",
    "        ls_max_elements.append(max)\n",
    "    \n",
    "    ls_min_elements = np.array(ls_min_elements)\n",
    "    ls_min_elements = ls_min_elements.reshape(20, -1)\n",
    "    \n",
    "    ls_max_elements = np.array(ls_max_elements)\n",
    "    ls_max_elements = ls_max_elements.reshape(20, -1)\n",
    "    return ls_min_elements, ls_max_elements\n",
    "\n",
    "def calculateMedian(array):\n",
    "    array = np.array(array)\n",
    "    q = array[0].shape[0]//100\n",
    "    ls_median_elements = []\n",
    "    for i in range(100):\n",
    "        val = np.median(array[:, q*i:q*(i+1)], axis=1)\n",
    "        ls_median_elements.append(val)\n",
    "    \n",
    "    ls_median_elements = np.array(ls_median_elements)\n",
    "    ls_median_elements = ls_median_elements.reshape(20, -1)\n",
    "    return ls_median_elements\n",
    "\n",
    "def calculateSumPTP(array):\n",
    "    array = np.array(array)\n",
    "    q = array[0].shape[0]//100\n",
    "    ls_sum_elements = []\n",
    "    ls_ptp_elements = []\n",
    "    for i in range(100):\n",
    "        sum = np.sum(array[:, q*i:q*(i+1)], axis=1)\n",
    "        ptp = np.ptp(array[:, q*i:q*(i+1)], axis=1)\n",
    "        ls_sum_elements.append(sum)\n",
    "        ls_ptp_elements.append(ptp)\n",
    "    \n",
    "    ls_sum_elements = np.array(ls_sum_elements)\n",
    "    ls_sum_elements = ls_sum_elements.reshape(20, -1)\n",
    "    \n",
    "    ls_ptp_elements = np.array(ls_ptp_elements)\n",
    "    ls_ptp_elements = ls_ptp_elements.reshape(20, -1)\n",
    "    return ls_sum_elements, ls_ptp_elements\n",
    "\n",
    "def calculateSkewKurtosis(array):\n",
    "    array = np.array(array)\n",
    "    q = array[0].shape[0]//100\n",
    "    ls_skew_elements = []\n",
    "    ls_kurtosis_elements = []\n",
    "    for i in range(100):\n",
    "        skew_val = skew(array[:, q*i:q*(i+1)], axis=1)\n",
    "        kurtosis_val = kurtosis(array[:, q*i:q*(i+1)], axis=1)\n",
    "        ls_skew_elements.append(skew_val)\n",
    "        ls_kurtosis_elements.append(kurtosis_val)\n",
    "    \n",
    "    ls_skew_elements = np.array(ls_skew_elements)\n",
    "    ls_skew_elements = ls_skew_elements.reshape(20, -1)\n",
    "    \n",
    "    ls_kurtosis_elements = np.array(ls_kurtosis_elements)\n",
    "    ls_kurtosis_elements = ls_kurtosis_elements.reshape(20, -1)\n",
    "    return ls_skew_elements, ls_kurtosis_elements"
   ]
  },
  {
   "cell_type": "code",
   "execution_count": 70,
   "metadata": {},
   "outputs": [],
   "source": [
    "def calculateStatistics(array):\n",
    "    mean = calculateMeans(array)\n",
    "    var = calculateVariance(array)\n",
    "    min, max = calculateMinMax(array)\n",
    "    median = calculateMedian(array)\n",
    "    sum, ptp = calculateSumPTP(array)\n",
    "    # skew_val, kurtosis_val = calculateSkewKurtosis(array)\n",
    "    \n",
    "    features = np.concatenate((mean, var, min, max, median, sum, ptp), axis=1) \n",
    "    return features"
   ]
  },
  {
   "cell_type": "code",
   "execution_count": 71,
   "metadata": {},
   "outputs": [
    {
     "name": "stdout",
     "output_type": "stream",
     "text": [
      "116 12\n"
     ]
    }
   ],
   "source": [
    "features_list = []\n",
    "for i in range(len(new_ls_files)):\n",
    "    features = calculateStatistics(new_ls_files[i])\n",
    "    features_list.append(features)\n",
    "    \n",
    "features_list_scrapped = []\n",
    "for i in range(len(new_ls_files_scrapped)):\n",
    "    features = calculateStatistics(new_ls_files_scrapped[i])\n",
    "    features_list_scrapped.append(features)\n",
    "\n",
    "print(len(features_list), len(features_list_scrapped))    "
   ]
  },
  {
   "cell_type": "code",
   "execution_count": 72,
   "metadata": {},
   "outputs": [],
   "source": [
    "def calculateSpectralEnergy(array):\n",
    "    array = np.array(array)\n",
    "    q = array[0].shape[0]//5\n",
    "    ls_spectral_energy_elements = []\n",
    "    for i in range(5):\n",
    "        spectral_energy = np.sum(np.abs(array[:, q*i:q*(i+1)])**2, axis=1)\n",
    "        ls_spectral_energy_elements.append(spectral_energy)\n",
    "        \n",
    "    ls_spectral_energy_elements = np.array(ls_spectral_energy_elements)\n",
    "    ls_spectral_energy_elements = ls_spectral_energy_elements.reshape(20, -1)\n",
    "    return ls_spectral_energy_elements\n",
    "\n",
    "def calculateDominantFrequency(array):\n",
    "    array = np.array(array)\n",
    "    q = array[0].shape[0]//5\n",
    "    ls_dominant_frequency_elements = []\n",
    "    for i in range(5):\n",
    "        dominant_frequency = np.argmax(np.abs(fft(array[:, q*i:q*(i+1)], axis=1)), axis=1)\n",
    "        ls_dominant_frequency_elements.append(dominant_frequency)\n",
    "        \n",
    "    ls_dominant_frequency_elements = np.array(ls_dominant_frequency_elements)\n",
    "    ls_dominant_frequency_elements = ls_dominant_frequency_elements.reshape(20, -1)\n",
    "    return ls_dominant_frequency_elements\n",
    "\n",
    "def calculatePercentile(array):\n",
    "    array = np.array(array)\n",
    "    q = array[0].shape[0]//5\n",
    "    ls_percentile_25_elements = []\n",
    "    ls_percentile_75_elements = []\n",
    "    for i in range(5):\n",
    "        percentile_25 = np.percentile(array[:, q*i:q*(i+1)], 25, axis=1)\n",
    "        percentile_75 = np.percentile(array[:, q*i:q*(i+1)], 75, axis=1)\n",
    "        ls_percentile_25_elements.append(percentile_25)\n",
    "        ls_percentile_75_elements.append(percentile_75)\n",
    "    \n",
    "    ls_percentile_25_elements = np.array(ls_percentile_25_elements)\n",
    "    ls_percentile_25_elements = ls_percentile_25_elements.reshape(20, -1)\n",
    "    \n",
    "    ls_percentile_75_elements = np.array(ls_percentile_75_elements)\n",
    "    ls_percentile_75_elements = ls_percentile_75_elements.reshape(20, -1)\n",
    "    return ls_percentile_25_elements, ls_percentile_75_elements\n",
    "\n",
    "def calculateSignalEntropy(array):\n",
    "    array = np.array(array)\n",
    "    q = array[0].shape[0]//5\n",
    "    ls_signal_entropy_elements = []\n",
    "    for i in range(5):\n",
    "        signal_entropy = entropy(array[:, q*i:q*(i+1)], axis=1)\n",
    "        ls_signal_entropy_elements.append(signal_entropy)\n",
    "        \n",
    "    ls_signal_entropy_elements = np.array(ls_signal_entropy_elements)\n",
    "    ls_signal_entropy_elements = ls_signal_entropy_elements.reshape(20, -1)\n",
    "    return ls_signal_entropy_elements\n",
    "\n",
    "def calculateZeroCrossingRate(array):\n",
    "    array = np.array(array)\n",
    "    q = array[0].shape[0]//5\n",
    "    ls_zcr_elements = []\n",
    "    for i in range(5):\n",
    "        zcr = np.sum(np.diff(np.sign(array[:, q*i:q*(i+1)]), axis=1) != 0, axis=1)\n",
    "        ls_zcr_elements.append(zcr)\n",
    "        \n",
    "    ls_zcr_elements = np.array(ls_zcr_elements)\n",
    "    ls_zcr_elements = ls_zcr_elements.reshape(20, -1)\n",
    "    return ls_zcr_elements\n",
    "\n",
    "def calculateRMS(array):\n",
    "    array = np.array(array)\n",
    "    q = array[0].shape[0]//5\n",
    "    ls_rms_elements = []\n",
    "    for i in range(5):\n",
    "        rms = np.sqrt(np.sum(array[:, q*i:q*(i+1)]**2, axis=1))\n",
    "        ls_rms_elements.append(rms)\n",
    "        \n",
    "    ls_rms_elements = np.array(ls_rms_elements)\n",
    "    ls_rms_elements = ls_rms_elements.reshape(20, -1)\n",
    "    return ls_rms_elements\n",
    "\n",
    "\n",
    "def calculateVarAbsDiff(array):\n",
    "    array = np.array(array)\n",
    "    q = array[0].shape[0]//5\n",
    "    ls_vad_elements = []\n",
    "    for i in range(5):\n",
    "        vad = np.var(np.diff(array[:, q*i:q*(i+1)], axis=1), axis=1)\n",
    "        ls_vad_elements.append(vad)\n",
    "        \n",
    "    ls_vad_elements = np.array(ls_vad_elements)\n",
    "    ls_vad_elements = ls_vad_elements.reshape(20, -1)\n",
    "    return ls_vad_elements"
   ]
  },
  {
   "cell_type": "code",
   "execution_count": 73,
   "metadata": {},
   "outputs": [],
   "source": [
    "def calculateRelvantFeatures(array):\n",
    "    spectral_energy = calculateSpectralEnergy(array)\n",
    "    dominant_frequency = calculateDominantFrequency(array)\n",
    "    percentile_25, percentile_75 = calculatePercentile(array)\n",
    "    # signal_entropy = calculateSignalEntropy(array)\n",
    "    zero_crossing_rate = calculateZeroCrossingRate(array)\n",
    "    root_mean_square = calculateRMS(array)\n",
    "    variance_absolute_difference = calculateVarAbsDiff(array)\n",
    "    \n",
    "    features = np.concatenate((spectral_energy, dominant_frequency, zero_crossing_rate, percentile_25, percentile_75, root_mean_square, variance_absolute_difference), axis=1)\n",
    "    return features"
   ]
  },
  {
   "cell_type": "code",
   "execution_count": 74,
   "metadata": {},
   "outputs": [],
   "source": [
    "relevant_features_list = []\n",
    "for i in range(len(new_ls_files)):\n",
    "    features = calculateRelvantFeatures(new_ls_files[i])\n",
    "    relevant_features_list.append(features)\n",
    "    \n",
    "relevant_features_list_scrapped = []\n",
    "for i in range(len(new_ls_files_scrapped)):\n",
    "    features = calculateRelvantFeatures(new_ls_files_scrapped[i])\n",
    "    relevant_features_list_scrapped.append(features)\n",
    "\n",
    "all_features_list = []\n",
    "for i in range(len(features_list)):\n",
    "    all_features = np.concatenate((features_list[i], relevant_features_list[i]), axis=1)\n",
    "    all_features_list.append(all_features)\n",
    "    \n",
    "all_features_list_scrapped = []\n",
    "for i in range(len(features_list_scrapped)):\n",
    "    all_features = np.concatenate((features_list_scrapped[i], relevant_features_list_scrapped[i]), axis=1)\n",
    "    all_features_list_scrapped.append(all_features)"
   ]
  },
  {
   "cell_type": "code",
   "execution_count": 90,
   "metadata": {},
   "outputs": [],
   "source": [
    "# flattened_data = np.array([point.flatten() for point in all_features_list]) \n",
    "# flattened_centers = np.array([center.flatten() for center in all_features_list_scrapped])\n",
    "\n",
    "# # Calculate initial centers by averaging pairs\n",
    "# initial_centers = np.array([np.mean(flattened_centers[i*2:(i*2)+2], axis=0) for i in range(6)])\n",
    "\n",
    "# # Perform K-means clustering\n",
    "# kmeans = KMeans(n_clusters=6, init=initial_centers, n_init=1)  # Using predefined centers\n",
    "# labels = kmeans.fit_predict(flattened_data)\n",
    "\n",
    "# # Combine data points and centers for dimensionality reduction\n",
    "# all_points = np.vstack([flattened_data, initial_centers])\n",
    "# all_labels = np.concatenate([labels, np.array([6] * 6)])  # Label cluster centers distinctly\n",
    "\n",
    "# # Reduce dimensions with PCA, followed by t-SNE for better separation\n",
    "# pca = PCA(n_components=50).fit_transform(all_points)\n",
    "# tsne = TSNE(n_components=2, perplexity=30, n_iter=300)\n",
    "# tsne_points = tsne.fit_transform(pca)\n",
    "\n",
    "# # Split transformed points into data and cluster centers\n",
    "# data_points_tsne = tsne_points[:116]\n",
    "# centers_tsne = tsne_points[116:]\n",
    "\n",
    "# # Plotting the clusters and centers\n",
    "# plt.figure(figsize=(8, 6))\n",
    "# for i in range(6):\n",
    "#     plt.scatter(data_points_tsne[labels == i, 0], data_points_tsne[labels == i, 1], label=f'Cluster {i + 1}', alpha=0.6)\n",
    "# plt.scatter(centers_tsne[:, 0], centers_tsne[:, 1], c='red', marker='X', s=200, label='Cluster Centers')\n",
    "# plt.title(\"Clusters and Cluster Centers in 2D using t-SNE\")\n",
    "# plt.legend()\n",
    "# plt.show()"
   ]
  },
  {
   "cell_type": "code",
   "execution_count": 76,
   "metadata": {},
   "outputs": [
    {
     "name": "stderr",
     "output_type": "stream",
     "text": [
      "C:\\Users\\Admin\\AppData\\Local\\Packages\\PythonSoftwareFoundation.Python.3.11_qbz5n2kfra8p0\\LocalCache\\local-packages\\Python311\\site-packages\\sklearn\\manifold\\_t_sne.py:1162: FutureWarning: 'n_iter' was renamed to 'max_iter' in version 1.5 and will be removed in 1.7.\n",
      "  warnings.warn(\n"
     ]
    },
    {
     "data": {
      "image/png": "[encoded data removed]",
      "text/plain": [
       "<Figure size 1000x800 with 1 Axes>"
      ]
     },
     "metadata": {},
     "output_type": "display_data"
    }
   ],
   "source": [
    "import numpy as np\n",
    "from sklearn.cluster import KMeans\n",
    "from sklearn.decomposition import PCA\n",
    "from sklearn.manifold import TSNE\n",
    "import matplotlib.pyplot as plt\n",
    "\n",
    "# Assuming 'data' is a list of 116 elements, each of shape (20, 1400)\n",
    "# and 'cluster_centers' is a list of 12 elements (2 for each cluster)\n",
    "\n",
    "# Flatten data and cluster centers\n",
    "flattened_data = np.array([point.flatten() for point in all_features_list])  # Shape (116, 28000)\n",
    "flattened_centers = np.array([center.flatten() for center in all_features_list_scrapped])  # Shape (12, 28000)\n",
    "\n",
    "# Calculate initial centers by averaging pairs\n",
    "initial_centers = np.array([np.mean(flattened_centers[i*2:(i*2)+2], axis=0) for i in range(6)])\n",
    "\n",
    "# Perform K-means clustering\n",
    "kmeans = KMeans(n_clusters=6, init=initial_centers, n_init=1)  # Using predefined centers\n",
    "labels = kmeans.fit_predict(flattened_data)\n",
    "final_centers = kmeans.cluster_centers_  # The final computed cluster centers\n",
    "\n",
    "# Combine data points and centers for dimensionality reduction\n",
    "all_points = np.vstack([flattened_data, final_centers])\n",
    "all_labels = np.concatenate([labels, np.array([6] * 6)])  # Label final centers distinctly\n",
    "\n",
    "# Reduce dimensions with PCA, followed by t-SNE for better separation\n",
    "pca = PCA(n_components=50).fit_transform(all_points)\n",
    "tsne = TSNE(n_components=2, perplexity=30, n_iter=300)\n",
    "tsne_points = tsne.fit_transform(pca)\n",
    "\n",
    "# Split transformed points into data and final cluster centers\n",
    "data_points_tsne = tsne_points[:116]\n",
    "centers_tsne = tsne_points[116:]\n",
    "\n",
    "# Plotting the clusters and final cluster centers with labels\n",
    "plt.figure(figsize=(10, 8))\n",
    "for i in range(6):\n",
    "    plt.scatter(data_points_tsne[labels == i, 0], data_points_tsne[labels == i, 1], label=f'Cluster {i + 1}', alpha=0.6)\n",
    "plt.scatter(centers_tsne[:, 0], centers_tsne[:, 1], c='red', marker='X', s=200, label='Final Cluster Centers')\n",
    "\n",
    "# Add annotations for each final cluster center\n",
    "for idx, (x, y) in enumerate(centers_tsne):\n",
    "    plt.text(x, y, f'Center {idx + 1}', fontsize=12, ha='right', color='black')\n",
    "\n",
    "plt.title(\"Clusters and Final Cluster Centers in 2D using t-SNE\")\n",
    "plt.legend()\n",
    "plt.show()\n"
   ]
  },
  {
   "cell_type": "code",
   "execution_count": 77,
   "metadata": {},
   "outputs": [],
   "source": [
    "data = np.array(all_features_list)\n",
    "cluster_centers = np.array(all_features_list_scrapped)\n",
    "\n",
    "# Initialize an array to store the distances\n",
    "dist_matrix = np.zeros((data.shape[0], cluster_centers.shape[0]))\n",
    "\n",
    "# Calculate Euclidean distances\n",
    "for i in range(data.shape[0]):\n",
    "    for j in range(cluster_centers.shape[0]):\n",
    "        dist_matrix[i, j] = np.linalg.norm(data[i] - cluster_centers[j])\n",
    "\n",
    "# Determine the closest cluster pair for each data point\n",
    "# Since we have pairs, average pairs of centers to get 6 clusters\n",
    "labels = []\n",
    "for i in range(dist_matrix.shape[0]):\n",
    "    # Find the closest center index\n",
    "    closest_center = np.argmin(dist_matrix[i])\n",
    "    \n",
    "    # Map closest center to one of 6 clusters (0-5) by integer division\n",
    "    cluster_label = closest_center // 2\n",
    "    labels.append(cluster_label)\n",
    "\n",
    "# Convert labels to a numpy array for easy handling\n",
    "labels = np.array(labels)"
   ]
  },
  {
   "cell_type": "code",
   "execution_count": 78,
   "metadata": {},
   "outputs": [
    {
     "data": {
      "image/png": "[encoded data removed]",
      "text/plain": [
       "<Figure size 800x600 with 2 Axes>"
      ]
     },
     "metadata": {},
     "output_type": "display_data"
    }
   ],
   "source": [
    "import numpy as np\n",
    "import seaborn as sns\n",
    "import matplotlib.pyplot as plt\n",
    "from sklearn.decomposition import PCA\n",
    "from sklearn.manifold import TSNE\n",
    "\n",
    "# Assuming 'data' is an array of shape (116, 20, 1400)\n",
    "# and 'cluster_centers' is an array of shape (12, 20, 1400)\n",
    "\n",
    "# Reshape data for Euclidean distance calculations\n",
    "data = np.array(all_features_list)\n",
    "cluster_centers = np.array(all_features_list_scrapped)\n",
    "\n",
    "# Initialize an array to store the distances\n",
    "dist_matrix = np.zeros((data.shape[0], cluster_centers.shape[0]))\n",
    "\n",
    "# Calculate Euclidean distances\n",
    "for i in range(data.shape[0]):\n",
    "    for j in range(cluster_centers.shape[0]):\n",
    "        dist_matrix[i, j] = np.linalg.norm(data[i] - cluster_centers[j])\n",
    "\n",
    "# Determine the closest cluster pair for each data point\n",
    "# Since we have pairs, average pairs of centers to get 6 clusters\n",
    "labels = []\n",
    "for i in range(dist_matrix.shape[0]):\n",
    "    # Find the closest center index\n",
    "    closest_center = np.argmin(dist_matrix[i])\n",
    "    \n",
    "    # Map closest center to one of 6 clusters (0-5) by integer division\n",
    "    cluster_label = closest_center // 2\n",
    "    labels.append(cluster_label)\n",
    "\n",
    "# Convert labels to a numpy array for easy handling\n",
    "labels = np.array(labels)\n",
    "\n",
    "# Plotting the distance matrix as a heatmap\n",
    "plt.figure(figsize=(8, 6))\n",
    "sns.heatmap(dist_matrix, cmap=\"viridis\", annot=False, fmt=\".2f\", cbar_kws={'label': 'Distance'})\n",
    "plt.title(\"Distance Matrix Heatmap\")\n",
    "plt.xlabel(\"Cluster Centers\")\n",
    "plt.ylabel(\"Data Points\")\n",
    "plt.show()\n"
   ]
  },
  {
   "cell_type": "code",
   "execution_count": 80,
   "metadata": {},
   "outputs": [
    {
     "data": {
      "text/plain": [
       "{0: 29, 1: 8, 2: 16, 3: 26, 4: 16, 5: 21}"
      ]
     },
     "execution_count": 80,
     "metadata": {},
     "output_type": "execute_result"
    }
   ],
   "source": [
    "unique, counts = np.unique(labels, return_counts=True)\n",
    "dict(zip(unique, counts))"
   ]
  },
  {
   "cell_type": "code",
   "execution_count": 81,
   "metadata": {},
   "outputs": [
    {
     "data": {
      "text/plain": [
       "['01-MFCC.csv',\n",
       " '02-MFCC.csv',\n",
       " '03-MFCC.csv',\n",
       " '04-MFCC.csv',\n",
       " '05-MFCC.csv',\n",
       " '06-MFCC.csv',\n",
       " '07-MFCC.csv',\n",
       " '08-MFCC.csv',\n",
       " '09-MFCC.csv',\n",
       " '10-MFCC.csv',\n",
       " '100-MFCC.csv',\n",
       " '101-MFCC.csv',\n",
       " '102-MFCC.csv',\n",
       " '103-MFCC.csv',\n",
       " '104-MFCC.csv',\n",
       " '105-MFCC.csv',\n",
       " '106-MFCC.csv',\n",
       " '107-MFCC.csv',\n",
       " '108-MFCC.csv',\n",
       " '109-MFCC.csv',\n",
       " '11-MFCC.csv',\n",
       " '110-MFCC.csv',\n",
       " '111-MFCC.csv',\n",
       " '112-MFCC.csv',\n",
       " '113-MFCC.csv',\n",
       " '114-MFCC.csv',\n",
       " '115-MFCC.csv',\n",
       " '116-MFCC.csv',\n",
       " '12-MFCC.csv',\n",
       " '13-MFCC.csv',\n",
       " '14-MFCC.csv',\n",
       " '15-MFCC.csv',\n",
       " '16-MFCC.csv',\n",
       " '17-MFCC.csv',\n",
       " '18-MFCC.csv',\n",
       " '19-MFCC.csv',\n",
       " '20-MFCC.csv',\n",
       " '21-MFCC.csv',\n",
       " '22-MFCC.csv',\n",
       " '23-MFCC.csv',\n",
       " '24-MFCC.csv',\n",
       " '25-MFCC.csv',\n",
       " '26-MFCC.csv',\n",
       " '27-MFCC.csv',\n",
       " '28-MFCC.csv',\n",
       " '29-MFCC.csv',\n",
       " '30-MFCC.csv',\n",
       " '31-MFCC.csv',\n",
       " '32-MFCC.csv',\n",
       " '33-MFCC.csv',\n",
       " '34-MFCC.csv',\n",
       " '35-MFCC.csv',\n",
       " '36-MFCC.csv',\n",
       " '37-MFCC.csv',\n",
       " '38-MFCC.csv',\n",
       " '39-MFCC.csv',\n",
       " '40-MFCC.csv',\n",
       " '41-MFCC.csv',\n",
       " '42-MFCC.csv',\n",
       " '43-MFCC.csv',\n",
       " '44-MFCC.csv',\n",
       " '45-MFCC.csv',\n",
       " '46-MFCC.csv',\n",
       " '47-MFCC.csv',\n",
       " '48-MFCC.csv',\n",
       " '49-MFCC.csv',\n",
       " '50-MFCC.csv',\n",
       " '51-MFCC.csv',\n",
       " '52-MFCC.csv',\n",
       " '53-MFCC.csv',\n",
       " '54-MFCC.csv',\n",
       " '55-MFCC.csv',\n",
       " '56-MFCC.csv',\n",
       " '57-MFCC.csv',\n",
       " '58-MFCC.csv',\n",
       " '59-MFCC.csv',\n",
       " '60-MFCC.csv',\n",
       " '61-MFCC.csv',\n",
       " '62-MFCC.csv',\n",
       " '63-MFCC.csv',\n",
       " '64-MFCC.csv',\n",
       " '65-MFCC.csv',\n",
       " '66-MFCC.csv',\n",
       " '67-MFCC.csv',\n",
       " '68-MFCC.csv',\n",
       " '69-MFCC.csv',\n",
       " '70-MFCC.csv',\n",
       " '71-MFCC.csv',\n",
       " '72-MFCC.csv',\n",
       " '73-MFCC.csv',\n",
       " '74-MFCC.csv',\n",
       " '75-MFCC.csv',\n",
       " '76-MFCC.csv',\n",
       " '77-MFCC.csv',\n",
       " '78-MFCC.csv',\n",
       " '79-MFCC.csv',\n",
       " '80-MFCC.csv',\n",
       " '81-MFCC.csv',\n",
       " '82-MFCC.csv',\n",
       " '83-MFCC.csv',\n",
       " '84-MFCC.csv',\n",
       " '85-MFCC.csv',\n",
       " '86-MFCC.csv',\n",
       " '87-MFCC.csv',\n",
       " '88-MFCC.csv',\n",
       " '89-MFCC.csv',\n",
       " '90-MFCC.csv',\n",
       " '91-MFCC.csv',\n",
       " '92-MFCC.csv',\n",
       " '93-MFCC.csv',\n",
       " '94-MFCC.csv',\n",
       " '95-MFCC.csv',\n",
       " '96-MFCC.csv',\n",
       " '97-MFCC.csv',\n",
       " '98-MFCC.csv',\n",
       " '99-MFCC.csv']"
      ]
     },
     "execution_count": 81,
     "metadata": {},
     "output_type": "execute_result"
    }
   ],
   "source": [
    "dir_files"
   ]
  },
  {
   "cell_type": "code",
   "execution_count": 82,
   "metadata": {},
   "outputs": [
    {
     "data": {
      "text/plain": [
       "['1audio.csv',\n",
       " '2audio.csv',\n",
       " '3audio.csv',\n",
       " '4audio.csv',\n",
       " '5audio.csv',\n",
       " '6audio.csv',\n",
       " '7audio.csv',\n",
       " '8audio.csv',\n",
       " '90audio.csv',\n",
       " '91audio.csv',\n",
       " '92audio.csv',\n",
       " '93audio.csv']"
      ]
     },
     "execution_count": 82,
     "metadata": {},
     "output_type": "execute_result"
    }
   ],
   "source": [
    "dir_files_scrapped"
   ]
  },
  {
   "cell_type": "code",
   "execution_count": 83,
   "metadata": {},
   "outputs": [
    {
     "data": {
      "text/plain": [
       "array([0, 0, 1, 1, 2, 2, 3, 3, 4, 4, 5, 5, 3, 1, 5, 3, 2, 0, 0, 3, 0, 2,\n",
       "       4, 0, 5, 2, 3, 1, 4, 5, 0, 5, 1, 0, 5, 3, 2, 2, 5, 4, 3, 3, 2, 0,\n",
       "       2, 2, 3, 3, 2, 1, 4, 0, 2, 0, 4, 0, 4, 0, 5, 0, 3, 1, 2, 3, 3, 5,\n",
       "       4, 5, 4, 0, 5, 5, 0, 3, 0, 0, 3, 0, 5, 5, 5, 2, 3, 0, 3, 3, 3, 4,\n",
       "       3, 3, 1, 0, 5, 0, 3, 3, 4, 0, 4, 4, 5, 0, 3, 0, 5, 5, 0, 0, 5, 2,\n",
       "       4, 0, 4, 2, 3, 0], dtype=int64)"
      ]
     },
     "execution_count": 83,
     "metadata": {},
     "output_type": "execute_result"
    }
   ],
   "source": [
    "labels"
   ]
  },
  {
   "cell_type": "code",
   "execution_count": 86,
   "metadata": {},
   "outputs": [],
   "source": [
    "labels = labels+1"
   ]
  },
  {
   "cell_type": "code",
   "execution_count": 87,
   "metadata": {},
   "outputs": [
    {
     "data": {
      "text/plain": [
       "array([1, 1, 2, 2, 3, 3, 4, 4, 5, 5, 6, 6, 4, 2, 6, 4, 3, 1, 1, 4, 1, 3,\n",
       "       5, 1, 6, 3, 4, 2, 5, 6, 1, 6, 2, 1, 6, 4, 3, 3, 6, 5, 4, 4, 3, 1,\n",
       "       3, 3, 4, 4, 3, 2, 5, 1, 3, 1, 5, 1, 5, 1, 6, 1, 4, 2, 3, 4, 4, 6,\n",
       "       5, 6, 5, 1, 6, 6, 1, 4, 1, 1, 4, 1, 6, 6, 6, 3, 4, 1, 4, 4, 4, 5,\n",
       "       4, 4, 2, 1, 6, 1, 4, 4, 5, 1, 5, 5, 6, 1, 4, 1, 6, 6, 1, 1, 6, 3,\n",
       "       5, 1, 5, 3, 4, 1], dtype=int64)"
      ]
     },
     "execution_count": 87,
     "metadata": {},
     "output_type": "execute_result"
    }
   ],
   "source": [
    "labels"
   ]
  },
  {
   "cell_type": "code",
   "execution_count": null,
   "metadata": {},
   "outputs": [],
   "source": [
    "data = {'Filename': dir_files, 'Label': labels}\n",
    "\n",
    "# Step 2: Convert dictionary to DataFrame\n",
    "df = pd.DataFrame(data)\n",
    "\n",
    "# Step 3: Save the DataFrame to a CSV file\n",
    "df.to_csv('labeled_data.csv', index=True)"
   ]
  },
  {
   "cell_type": "code",
   "execution_count": 89,
   "metadata": {},
   "outputs": [
    {
     "data": {
      "text/plain": [
       "{0: [0, 1, 103],\n",
       " 1: [2, 3, 49],\n",
       " 2: [4, 5, 42],\n",
       " 3: [6, 7, 46],\n",
       " 4: [8, 9, 112],\n",
       " 5: [10, 11, 29]}"
      ]
     },
     "execution_count": 89,
     "metadata": {},
     "output_type": "execute_result"
    }
   ],
   "source": [
    "import numpy as np\n",
    "\n",
    "# Assuming 'data' is an array of shape (116, 20, 1400) for the 116 data points\n",
    "# and 'class_centers' is an array of shape (12, 20, 1400) for the 12 class center points\n",
    "\n",
    "# Function to compute Euclidean distance\n",
    "def euclidean_distance(a, b):\n",
    "    return np.linalg.norm(a - b)\n",
    "\n",
    "# Initialize a dictionary to store the closest points for each class\n",
    "closest_points = {i: [] for i in range(6)}  # 6 classes\n",
    "\n",
    "# Convert data and class_centers to numpy arrays for easier manipulation\n",
    "data = np.array(all_features_list)  # Shape (116, 20, 1400)\n",
    "class_centers = np.array(all_features_list_scrapped)  # Shape (12, 20, 1400)\n",
    "\n",
    "# For each data point, calculate the distance to each class center\n",
    "for i in range(data.shape[0]):  # 116 data points\n",
    "    distances = []\n",
    "    \n",
    "    # Calculate distance to each of the 12 class centers\n",
    "    for j in range(class_centers.shape[0]):  # 12 class centers\n",
    "        dist = euclidean_distance(data[i], class_centers[j])\n",
    "        distances.append(dist)\n",
    "    \n",
    "    # Get the index of the 2 closest cluster centers\n",
    "    closest_center_indices = np.argsort(distances)[:2]  # The two closest centers\n",
    "    \n",
    "    # Assign the data point to the closest class (0-5)\n",
    "    for idx in closest_center_indices:\n",
    "        class_label = idx // 2  # 2 centers per class\n",
    "        closest_points[class_label].append((i, distances[idx]))\n",
    "\n",
    "# Now, for each class, sort the points by distance and take the top 3 closest\n",
    "final_closest_points = {key: [] for key in closest_points.keys()}\n",
    "for key in closest_points:\n",
    "    # Sort the list of tuples (data_index, distance) by distance and take the 3 closest\n",
    "    closest_points[key] = sorted(closest_points[key], key=lambda x: x[1])[:3]\n",
    "    final_closest_points[key] = [x[0] for x in closest_points[key]]  # Just get the indices of the closest points\n",
    "\n",
    "# Output the final closest points for each class\n",
    "final_closest_points\n"
   ]
  },
  {
   "cell_type": "code",
   "execution_count": null,
   "metadata": {},
   "outputs": [],
   "source": []
  }
 ],
 "metadata": {
  "kernelspec": {
   "display_name": "Python 3",
   "language": "python",
   "name": "python3"
  },
  "language_info": {
   "codemirror_mode": {
    "name": "ipython",
    "version": 3
   },
   "file_extension": ".py",
   "mimetype": "text/x-python",
   "name": "python",
   "nbconvert_exporter": "python",
   "pygments_lexer": "ipython3",
   "version": "3.11.9"
  }
 },
 "nbformat": 4,
 "nbformat_minor": 2
}
