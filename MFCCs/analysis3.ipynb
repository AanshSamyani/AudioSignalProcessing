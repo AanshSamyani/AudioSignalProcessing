{
 "cells": [
  {
   "cell_type": "code",
   "execution_count": null,
   "metadata": {},
   "outputs": [
    {
     "ename": "",
     "evalue": "",
     "output_type": "error",
     "traceback": [
      "\u001b[1;31mThe Kernel crashed while executing code in the current cell or a previous cell. \n",
      "\u001b[1;31mPlease review the code in the cell(s) to identify a possible cause of the failure. \n",
      "\u001b[1;31mClick <a href='https://aka.ms/vscodeJupyterKernelCrash'>here</a> for more info. \n",
      "\u001b[1;31mView Jupyter <a href='command:jupyter.viewOutput'>log</a> for further details."
     ]
    }
   ],
   "source": [
    "import librosa\n",
    "import numpy as np\n",
    "import librosa.display\n",
    "import matplotlib.pyplot as plt\n",
    "from numpy import genfromtxt\n",
    "from IPython.display import Audio\n",
    "\n",
    "# Example MFCC data; replace this with your actual MFCC data\n",
    "file_path = r\"C:\\Users\\Admin\\Desktop\\DS203\\E7\\MFCC-files-v2\\01-MFCC.csv\"\n",
    "mfcc_data = genfromtxt(file_path, delimiter=',')  # Replace with your actual data\n",
    "mfcc_data = mfcc_data[:, :mfcc_data.shape]\n",
    "\n",
    "# Parameters\n",
    "sr = 44100               # Sampling rate (use the same one as when creating the MFCCs)\n",
    "hop_length = 512         # Hop length used during MFCC generation\n",
    "n_fft = 2048             # FFT window size, commonly used with MFCCs\n",
    "\n",
    "# Convert MFCC back to audio\n",
    "reconstructed_audio = librosa.feature.inverse.mfcc_to_audio(\n",
    "    mfcc_data,\n",
    "    sr=sr,\n",
    "    n_mels=20,\n",
    "    hop_length=hop_length,\n",
    "    n_fft=n_fft\n",
    ")\n",
    "\n",
    "# Plot the waveform of the reconstructed audio\n",
    "# plt.figure(figsize=(10, 4))\n",
    "# librosa.display.waveshow(reconstructed_audio, sr=sr)\n",
    "# plt.title(\"Reconstructed Audio Signal from MFCC\")\n",
    "# plt.xlabel(\"Time (s)\")\n",
    "# plt.ylabel(\"Amplitude\")\n",
    "# plt.show()\n",
    "\n",
    "# # Play the audio\n",
    "# Audio(data=reconstructed_audio, rate=sr)\n"
   ]
  },
  {
   "cell_type": "code",
   "execution_count": 2,
   "metadata": {},
   "outputs": [],
   "source": [
    "import librosa\n",
    "import numpy as np\n",
    "import librosa.display\n",
    "import matplotlib.pyplot as plt\n",
    "from numpy import genfromtxt\n",
    "from IPython.display import Audio\n",
    "\n",
    "# Example MFCC data; replace this with your actual MFCC data\n",
    "file_path = r\"C:\\Users\\Admin\\Desktop\\DS203\\E7\\MFCC-files-v2\\01-MFCC.csv\"\n",
    "mfcc_data = mfcc_arr = genfromtxt(file_path, delimiter=',')  # Replace with your actual data"
   ]
  },
  {
   "cell_type": "code",
   "execution_count": 3,
   "metadata": {},
   "outputs": [
    {
     "data": {
      "text/plain": [
       "(20, 9769)"
      ]
     },
     "execution_count": 3,
     "metadata": {},
     "output_type": "execute_result"
    }
   ],
   "source": [
    "mfcc_data.shape"
   ]
  },
  {
   "cell_type": "code",
   "execution_count": 4,
   "metadata": {},
   "outputs": [],
   "source": [
    "# Parameters\n",
    "sr = 44100               # Sampling rate (use the same one as when creating the MFCCs)\n",
    "hop_length = 512         # Hop length used during MFCC generation\n",
    "n_fft = 2048             # FFT window size, commonly used with MFCCs"
   ]
  },
  {
   "cell_type": "code",
   "execution_count": 5,
   "metadata": {},
   "outputs": [
    {
     "ename": "",
     "evalue": "",
     "output_type": "error",
     "traceback": [
      "\u001b[1;31mThe Kernel crashed while executing code in the current cell or a previous cell. \n",
      "\u001b[1;31mPlease review the code in the cell(s) to identify a possible cause of the failure. \n",
      "\u001b[1;31mClick <a href='https://aka.ms/vscodeJupyterKernelCrash'>here</a> for more info. \n",
      "\u001b[1;31mView Jupyter <a href='command:jupyter.viewOutput'>log</a> for further details."
     ]
    }
   ],
   "source": [
    "# Convert MFCC back to audio\n",
    "reconstructed_audio = librosa.feature.inverse.mfcc_to_audio(\n",
    "    mfcc_data,\n",
    "    sr=sr,\n",
    "    n_mels=20,\n",
    "    hop_length=hop_length,\n",
    "    n_fft=n_fft\n",
    ")"
   ]
  },
  {
   "cell_type": "code",
   "execution_count": null,
   "metadata": {},
   "outputs": [],
   "source": []
  }
 ],
 "metadata": {
  "kernelspec": {
   "display_name": "Python 3",
   "language": "python",
   "name": "python3"
  },
  "language_info": {
   "codemirror_mode": {
    "name": "ipython",
    "version": 3
   },
   "file_extension": ".py",
   "mimetype": "text/x-python",
   "name": "python",
   "nbconvert_exporter": "python",
   "pygments_lexer": "ipython3",
   "version": "3.11.9"
  }
 },
 "nbformat": 4,
 "nbformat_minor": 2
}
